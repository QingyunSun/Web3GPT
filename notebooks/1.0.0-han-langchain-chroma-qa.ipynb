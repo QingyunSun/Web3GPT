{
 "cells": [
  {
   "cell_type": "markdown",
   "id": "a0d0a1c8",
   "metadata": {},
   "source": [
    "# Document Question Answering\n",
    "\n",
    "An example of using Chroma DB and LangChain to do question answering over documents."
   ]
  },
  {
   "cell_type": "code",
   "execution_count": 1,
   "id": "652985d8",
   "metadata": {},
   "outputs": [],
   "source": [
    "from langchain.vectorstores import Chroma\n",
    "from langchain.embeddings import OpenAIEmbeddings\n",
    "from langchain.text_splitter import RecursiveCharacterTextSplitter\n",
    "from langchain.llms import OpenAI\n",
    "from langchain.chains import VectorDBQA\n",
    "from langchain.document_loaders import TextLoader"
   ]
  },
  {
   "cell_type": "markdown",
   "id": "01fe5351",
   "metadata": {},
   "source": [
    "## Load documents\n",
    "\n",
    "Load documents to do question answering over. If you want to do this over your documents, this is the section you should replace."
   ]
  },
  {
   "cell_type": "code",
   "execution_count": 4,
   "id": "5b352847",
   "metadata": {},
   "outputs": [],
   "source": [
    "loader = TextLoader('../data/cointelegraph_20230221_trunc.json')\n",
    "documents = loader.load()"
   ]
  },
  {
   "cell_type": "markdown",
   "id": "478be861",
   "metadata": {},
   "source": [
    "## Split documents\n",
    "\n",
    "Split documents into small chunks. This is so we can find the most relevant chunks for a query and pass only those into the LLM."
   ]
  },
  {
   "cell_type": "code",
   "execution_count": 50,
   "id": "7dd1adb2",
   "metadata": {},
   "outputs": [],
   "source": [
    "text_splitter = RecursiveCharacterTextSplitter(chunk_size=2000, chunk_overlap=0)\n",
    "texts = text_splitter.split_documents(documents)"
   ]
  },
  {
   "cell_type": "markdown",
   "id": "f9b30aff",
   "metadata": {},
   "source": [
    "## Initialize ChromaDB\n",
    "\n",
    "Create embeddings for each chunk and insert into the Chroma vector database."
   ]
  },
  {
   "cell_type": "code",
   "execution_count": 51,
   "id": "c0d2a049",
   "metadata": {},
   "outputs": [
    {
     "name": "stdout",
     "output_type": "stream",
     "text": [
      "Running Chroma using direct local API.\n",
      "Using DuckDB in-memory for database. Data will be transient.\n"
     ]
    }
   ],
   "source": [
    "embeddings = OpenAIEmbeddings()\n",
    "vectordb = Chroma.from_documents(texts, embeddings)"
   ]
  },
  {
   "cell_type": "markdown",
   "id": "1ddb7866",
   "metadata": {},
   "source": [
    "## Create the chain\n",
    "\n",
    "Initialize the chain we will use for question answering."
   ]
  },
  {
   "cell_type": "code",
   "execution_count": 7,
   "id": "35164427",
   "metadata": {},
   "outputs": [],
   "source": [
    "qa = VectorDBQA.from_chain_type(llm=OpenAI(), chain_type=\"stuff\", vectorstore=vectordb)"
   ]
  },
  {
   "cell_type": "markdown",
   "id": "cff96efe",
   "metadata": {},
   "source": [
    "## Ask questions!\n",
    "\n",
    "Now we can use the chain to ask questions!"
   ]
  },
  {
   "cell_type": "code",
   "execution_count": 9,
   "id": "f5851c0b",
   "metadata": {},
   "outputs": [
    {
     "data": {
      "text/plain": [
       "\" I don't know.\""
      ]
     },
     "execution_count": 9,
     "metadata": {},
     "output_type": "execute_result"
    }
   ],
   "source": [
    "query = \"What did the president say about Ketanji Brown Jackson\"\n",
    "qa.run(query)"
   ]
  },
  {
   "cell_type": "code",
   "execution_count": 21,
   "id": "24cf9016",
   "metadata": {},
   "outputs": [
    {
     "name": "stdout",
     "output_type": "stream",
     "text": [
      "\n",
      "1. What is the current price of ETH? \n",
      "2. What is the current price of ZK? \n",
      "3. What is the best way to invest in ETH? \n",
      "4. What are the risks associated with investing in ZK? \n",
      "5. What are the main features of layer2 scaling? \n",
      "6. What is the most recent news about ETH? \n",
      "7. What is the most recent news about ZK? \n",
      "8. What upcoming events should I know about in the crypto and web3 space? \n",
      "9. What are the benefits of investing in layer2 solutions? \n",
      "10. How have ETH, ZK, and layer2 solutions performed in 2021?\n"
     ]
    }
   ],
   "source": [
    "query = \"Generate 10 questions that a retail crypto investor might want to ask a chatbot for investing research in cypto and web3 space, focused on topics of ETH, ZK, layer2 that are related to news and events happened on 2021?\"\n",
    "result = qa.run(query)\n",
    "print(result)"
   ]
  },
  {
   "cell_type": "code",
   "execution_count": 22,
   "id": "28b1ec8e",
   "metadata": {},
   "outputs": [
    {
     "name": "stdout",
     "output_type": "stream",
     "text": [
      " I don't know.\n"
     ]
    }
   ],
   "source": [
    "query = \"What is Scrypto?\"\n",
    "result = qa.run(query)\n",
    "print(result)"
   ]
  },
  {
   "attachments": {},
   "cell_type": "markdown",
   "id": "ecca43c7",
   "metadata": {},
   "source": [
    "# Query Assisted Generation"
   ]
  },
  {
   "cell_type": "code",
   "execution_count": 52,
   "id": "7b77f464",
   "metadata": {},
   "outputs": [],
   "source": [
    "hits = vectordb.similarity_search(query=query)"
   ]
  },
  {
   "cell_type": "code",
   "execution_count": 53,
   "id": "9026e8e2",
   "metadata": {},
   "outputs": [],
   "source": [
    "hits_page_content = [h.page_content for h in hits]\n",
    "hits_sources = [h.metadata['source'] for h in hits]"
   ]
  },
  {
   "cell_type": "code",
   "execution_count": 54,
   "id": "ac73bab2",
   "metadata": {},
   "outputs": [
    {
     "data": {
      "text/plain": [
       "['../data/cointelegraph_20230221_trunc.json',\n",
       " '../data/cointelegraph_20230221_trunc.json',\n",
       " '../data/cointelegraph_20230221_trunc.json',\n",
       " '../data/cointelegraph_20230221_trunc.json']"
      ]
     },
     "execution_count": 54,
     "metadata": {},
     "output_type": "execute_result"
    }
   ],
   "source": [
    "hits_sources"
   ]
  },
  {
   "cell_type": "code",
   "execution_count": 55,
   "id": "a7bf5d4f",
   "metadata": {},
   "outputs": [],
   "source": [
    "from langchain import PromptTemplate\n",
    "\n",
    "\n",
    "template = \"\"\"\n",
    "I want you to act as a financial analyst working in coinbase.\n",
    "\n",
    "Base yor answer on the following articles:\n",
    "{article_1}\n",
    "{article_2}\n",
    "{article_3}\n",
    "{article_4}\n",
    "\n",
    "Answer the following question:\n",
    "{question}\n",
    "\"\"\"\n",
    "\n",
    "prompt = PromptTemplate(\n",
    "    input_variables=[\"question\", \"article_1\", \"article_2\", \"article_3\", \"article_4\"],\n",
    "    template=template,\n",
    ")"
   ]
  },
  {
   "cell_type": "code",
   "execution_count": 56,
   "id": "1f7a4704",
   "metadata": {},
   "outputs": [
    {
     "data": {
      "text/plain": [
       "'\\nI want you to act as a financial analyst working in coinbase.\\n\\nBase yor answer on the following articles:\\nRelated: Bitcoin stealing malware: Bitter reminder for crypto users to stay vigilantInterestingly, the malware is designed to stop itself if it finds out the victim is based in Russia, Ukraine, Belarus and Kazakhstan. Cyble also found that the malware converts the victim’s stolen timezone data to Moscow Standard Time (MSK) when the data is sent back to the attackers. In February, malware named Mars Stealer was identified as targeting crypto wallets that work as Chromium browser extensions such as MetaMask, Binance Chain Wallet or Coinbase Wallet.Chainalysis warned in January that even low-skilled cybercriminals are now using malware to take funds from crypto hodlers, with cryptojacking accounting for 73% of the total value received by malware-related addresses between 2017 and 2021.\"}\\nrumored to be connected with the recent death of its founder, as some have posited that the private keys to users’ funds have been lost. A reported $190 million of user funds is allegedly inaccessible.SIM Swapping Hacker Pleads Guilty to 10 Year Sentence in $5 Million Crypto Theft20-year-old Joel Ortiz pleaded guilty this week to a charge of stealing $5 million in cryptocurrency through a process known as SIM swapping. According to the courts, Ortiz is the first person to be sentenced for the crime. Ortiz’s plea deal gives him 10 years in prison, and he will be officially sentenced on March 14. One of the agents in the investigation said he hopes that the arrest and conviction serve as a strong message to the community.Best Cointelegraph FeaturesVenezuela on Fire: How Maduro’s Petro Plan Failed to Bail Out the CountryAfter Juan Guaido declared himself to be president of Venezuela, the country has faced severe political turmoil. However, Venezuela’s political and economical situation before the attempted coup was already in dire straits. Cointelegraph looks at how the elected president, Nicolas Maduro, tried to fix the country’s problems with his oil-backed cryptocurrency, the Petro.Trump Ended U.S. Government Shutdown, but the Damage It Did to Crypto Adoption Is Here to StayAfter about five weeks of inactivity, the U.S. government is temporarily working again. But the long break means a significant buildup of work, and cryptocurrency and blockchain legislation may not have the top priority for getting looked at. Cointelegraph examines what the pause in government operations means for the crypto industry.Malta’s Regulatory Framework Attracts Crypto Players, but Int\\'l Watchdogs and Local Opposition Are SkepticalMalta, also known as the blockchain island, prides itself on its cryptocurrency-friendly legislation and its welcoming of crypto-related businesses to the country. However, an open environment also may come with potential dangers, as the nascent crypto industry has room for bad players. Cointelegraph analyzes how Malta’s crypto regulation is opposed by some international regulators, and what it means for the country.\"}\\nDelizia, dietbitcoin and Smart Application Chain.For more info on crypto prices, make sure to read Cointelegraph’s market analysis.FUD of the WeekYoung American Alleged SIM Swapper Arrested for Theft of $1 Million in CryptoAuthorities in the U.S. state of California have placed a 21-year old New Yorker under arrest for the alleged theft of $1 million in crypto using the SIM-swapping crypto stealing technique. SIM-swapping, also referred to as a port-out scam, works through the theft of a cell phone number in order to hack online financial and social media accounts through the victims phone. The arrested suspect, Nicholas Truglia, has been accused of targeting wealthy Silicon Valley executives.Trezor Releases Warning After Fake One-for-One Copies of Their Hardware FoundCrypto hardware wallet manufacturer Trezor has issued a warning to customers after it made the discovery that rogue actors were creating and selling fake versions of their wallet online. In the online post, Trezor notes that an unknown third party was distributing one-to-one copies of its flagship Trezor One device. The post specified that the rogue hardware wallet have subtle differences in their packaging, like the hologram and barcode sticker.Chainalysis Report: Bitcoin Use in Payments Has Collapsed This YearA recent report by Chainalysis shows that Bitcoin use in commercial payments has been reduced significantly this year. The study involved surveying 17 Bitcoin payment processors, finding that the amount of BTC handled by major payment processors reportedly dropped by almost 80 percent from the beginning of the year to September. Fo example, at Canadian firm Coinpayments, the value of transactions has fallen by more than half between January and October 2018. However, Fundstrat’s Tom Lee also said this week that the amount of transactions with Bitcoin is three times more than those with PayPal.Alleged Bitcoin Launderer Vinnik Announces Hunger Strike to ‘Get a Fair Trial’Alleged former operator of seized crypto exchange BTC-e, Alexander Vinnik, will reportedly start a hunger strike on Monday, Nov. 26. According to his attorney, the reason given for the hunger strike is that Vinnik was stripped of the right for defense in France and, consequently, in Greece. The hearing on his extradition to France has been consequently postponed and is now scheduled\\ncan help to avoid jeopardizing citizens’ private data in the name of public health during the global pandemics, writes Muneeb Ali.Crypto crime on the rise — good odds of 2020 becoming a record-breakerExperts believe that a more holistic crypto ecosystem, especially one that is more AML-centric, is needed to help prevent the spread of crypto scams in 2020. Shiraz Jagati has more.Blockchain to disrupt music industry and make it change tuneAntónio Madeira explores how blockchain technology is tipping the scales of the music industry, shifting the power from intermediaries back to artists.\"}\\n\\nAnswer the following question:\\nWhat is Scrypto?\\n'"
      ]
     },
     "execution_count": 56,
     "metadata": {},
     "output_type": "execute_result"
    }
   ],
   "source": [
    "prompt_data = {\n",
    "    \"question\": query,\n",
    "    \"article_1\": hits_page_content[0],\n",
    "    \"article_2\": hits_page_content[1],\n",
    "    \"article_3\": hits_page_content[2],\n",
    "    \"article_4\": hits_page_content[3],\n",
    "\n",
    "}\n",
    "prompt.format(**prompt_data)"
   ]
  },
  {
   "cell_type": "code",
   "execution_count": 57,
   "id": "f79481bc",
   "metadata": {},
   "outputs": [
    {
     "data": {
      "text/plain": [
       "\"\\nScrypto is a type of malware designed to steal cryptocurrency from victims. It is designed to target wallets that work as Chromium browser extensions, such as MetaMask, Binance Chain Wallet, or Coinbase Wallet. The malware is designed to convert the victim's stolen timezone data to Moscow Standard Time (MSK) when the data is sent back to the attackers.\""
      ]
     },
     "execution_count": 57,
     "metadata": {},
     "output_type": "execute_result"
    }
   ],
   "source": [
    "from langchain.llms import OpenAI\n",
    "\n",
    "llm = OpenAI(model_name=\"text-davinci-003\", temperature=0.5, best_of=10, n=3, max_tokens=200)\n",
    "\n",
    "llm(prompt.format(**prompt_data))"
   ]
  },
  {
   "cell_type": "code",
   "execution_count": 58,
   "id": "e648bf76",
   "metadata": {},
   "outputs": [
    {
     "data": {
      "text/plain": [
       "['Related: Bitcoin stealing malware: Bitter reminder for crypto users to stay vigilantInterestingly, the malware is designed to stop itself if it finds out the victim is based in Russia, Ukraine, Belarus and Kazakhstan. Cyble also found that the malware converts the victim’s stolen timezone data to Moscow Standard Time (MSK) when the data is sent back to the attackers. In February, malware named Mars Stealer was identified as targeting crypto wallets that work as Chromium browser extensions such as MetaMask, Binance Chain Wallet or Coinbase Wallet.Chainalysis warned in January that even low-skilled cybercriminals are now using malware to take funds from crypto hodlers, with cryptojacking accounting for 73% of the total value received by malware-related addresses between 2017 and 2021.\"}',\n",
       " 'rumored to be connected with the recent death of its founder, as some have posited that the private keys to users’ funds have been lost. A reported $190 million of user funds is allegedly inaccessible.SIM Swapping Hacker Pleads Guilty to 10 Year Sentence in $5 Million Crypto Theft20-year-old Joel Ortiz pleaded guilty this week to a charge of stealing $5 million in cryptocurrency through a process known as SIM swapping. According to the courts, Ortiz is the first person to be sentenced for the crime. Ortiz’s plea deal gives him 10 years in prison, and he will be officially sentenced on March 14. One of the agents in the investigation said he hopes that the arrest and conviction serve as a strong message to the community.Best Cointelegraph FeaturesVenezuela on Fire: How Maduro’s Petro Plan Failed to Bail Out the CountryAfter Juan Guaido declared himself to be president of Venezuela, the country has faced severe political turmoil. However, Venezuela’s political and economical situation before the attempted coup was already in dire straits. Cointelegraph looks at how the elected president, Nicolas Maduro, tried to fix the country’s problems with his oil-backed cryptocurrency, the Petro.Trump Ended U.S. Government Shutdown, but the Damage It Did to Crypto Adoption Is Here to StayAfter about five weeks of inactivity, the U.S. government is temporarily working again. But the long break means a significant buildup of work, and cryptocurrency and blockchain legislation may not have the top priority for getting looked at. Cointelegraph examines what the pause in government operations means for the crypto industry.Malta’s Regulatory Framework Attracts Crypto Players, but Int\\'l Watchdogs and Local Opposition Are SkepticalMalta, also known as the blockchain island, prides itself on its cryptocurrency-friendly legislation and its welcoming of crypto-related businesses to the country. However, an open environment also may come with potential dangers, as the nascent crypto industry has room for bad players. Cointelegraph analyzes how Malta’s crypto regulation is opposed by some international regulators, and what it means for the country.\"}',\n",
       " 'Delizia, dietbitcoin and Smart Application Chain.For more info on crypto prices, make sure to read Cointelegraph’s market analysis.FUD of the WeekYoung American Alleged SIM Swapper Arrested for Theft of $1 Million in CryptoAuthorities in the U.S. state of California have placed a 21-year old New Yorker under arrest for the alleged theft of $1 million in crypto using the SIM-swapping crypto stealing technique. SIM-swapping, also referred to as a port-out scam, works through the theft of a cell phone number in order to hack online financial and social media accounts through the victims phone. The arrested suspect, Nicholas Truglia, has been accused of targeting wealthy Silicon Valley executives.Trezor Releases Warning After Fake One-for-One Copies of Their Hardware FoundCrypto hardware wallet manufacturer Trezor has issued a warning to customers after it made the discovery that rogue actors were creating and selling fake versions of their wallet online. In the online post, Trezor notes that an unknown third party was distributing one-to-one copies of its flagship Trezor One device. The post specified that the rogue hardware wallet have subtle differences in their packaging, like the hologram and barcode sticker.Chainalysis Report: Bitcoin Use in Payments Has Collapsed This YearA recent report by Chainalysis shows that Bitcoin use in commercial payments has been reduced significantly this year. The study involved surveying 17 Bitcoin payment processors, finding that the amount of BTC handled by major payment processors reportedly dropped by almost 80 percent from the beginning of the year to September. Fo example, at Canadian firm Coinpayments, the value of transactions has fallen by more than half between January and October 2018. However, Fundstrat’s Tom Lee also said this week that the amount of transactions with Bitcoin is three times more than those with PayPal.Alleged Bitcoin Launderer Vinnik Announces Hunger Strike to ‘Get a Fair Trial’Alleged former operator of seized crypto exchange BTC-e, Alexander Vinnik, will reportedly start a hunger strike on Monday, Nov. 26. According to his attorney, the reason given for the hunger strike is that Vinnik was stripped of the right for defense in France and, consequently, in Greece. The hearing on his extradition to France has been consequently postponed and is now scheduled',\n",
       " 'can help to avoid jeopardizing citizens’ private data in the name of public health during the global pandemics, writes Muneeb Ali.Crypto crime on the rise — good odds of 2020 becoming a record-breakerExperts believe that a more holistic crypto ecosystem, especially one that is more AML-centric, is needed to help prevent the spread of crypto scams in 2020. Shiraz Jagati has more.Blockchain to disrupt music industry and make it change tuneAntónio Madeira explores how blockchain technology is tipping the scales of the music industry, shifting the power from intermediaries back to artists.\"}']"
      ]
     },
     "execution_count": 58,
     "metadata": {},
     "output_type": "execute_result"
    }
   ],
   "source": [
    "hits_page_content"
   ]
  },
  {
   "cell_type": "code",
   "execution_count": null,
   "id": "4fed89ab",
   "metadata": {},
   "outputs": [],
   "source": []
  }
 ],
 "metadata": {
  "kernelspec": {
   "display_name": ".venv",
   "language": "python",
   "name": "python3"
  },
  "language_info": {
   "codemirror_mode": {
    "name": "ipython",
    "version": 3
   },
   "file_extension": ".py",
   "mimetype": "text/x-python",
   "name": "python",
   "nbconvert_exporter": "python",
   "pygments_lexer": "ipython3",
   "version": "3.10.9"
  },
  "vscode": {
   "interpreter": {
    "hash": "d55bbae832b2be6000f72c6603c093de3682e884fa2fdcd85ffa735a2b6f03d8"
   }
  }
 },
 "nbformat": 4,
 "nbformat_minor": 5
}
