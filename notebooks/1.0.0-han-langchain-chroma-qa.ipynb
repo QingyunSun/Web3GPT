{
 "cells": [
  {
   "cell_type": "markdown",
   "id": "a0d0a1c8",
   "metadata": {},
   "source": [
    "# Document Question Answering\n",
    "\n",
    "An example of using Chroma DB and LangChain to do question answering over documents."
   ]
  },
  {
   "cell_type": "code",
   "execution_count": 1,
   "id": "652985d8",
   "metadata": {},
   "outputs": [],
   "source": [
    "from langchain.vectorstores import Chroma\n",
    "from langchain.embeddings import OpenAIEmbeddings\n",
    "from langchain.text_splitter import RecursiveCharacterTextSplitter\n",
    "from langchain.llms import OpenAI\n",
    "from langchain.chains import VectorDBQA\n",
    "from langchain.document_loaders import TextLoader"
   ]
  },
  {
   "cell_type": "markdown",
   "id": "01fe5351",
   "metadata": {},
   "source": [
    "## Load documents\n",
    "\n",
    "Load documents to do question answering over. If you want to do this over your documents, this is the section you should replace."
   ]
  },
  {
   "cell_type": "code",
   "execution_count": 4,
   "id": "5b352847",
   "metadata": {},
   "outputs": [],
   "source": [
    "loader = TextLoader('../data/cointelegraph_20230221_trunc.json')\n",
    "documents = loader.load()"
   ]
  },
  {
   "cell_type": "markdown",
   "id": "478be861",
   "metadata": {},
   "source": [
    "## Split documents\n",
    "\n",
    "Split documents into small chunks. This is so we can find the most relevant chunks for a query and pass only those into the LLM."
   ]
  },
  {
   "cell_type": "code",
   "execution_count": 50,
   "id": "7dd1adb2",
   "metadata": {},
   "outputs": [],
   "source": [
    "text_splitter = RecursiveCharacterTextSplitter(chunk_size=2000, chunk_overlap=0)\n",
    "texts = text_splitter.split_documents(documents)"
   ]
  },
  {
   "cell_type": "markdown",
   "id": "f9b30aff",
   "metadata": {},
   "source": [
    "## Initialize ChromaDB\n",
    "\n",
    "Create embeddings for each chunk and insert into the Chroma vector database."
   ]
  },
  {
   "cell_type": "code",
   "execution_count": 51,
   "id": "c0d2a049",
   "metadata": {},
   "outputs": [
    {
     "name": "stdout",
     "output_type": "stream",
     "text": [
      "Running Chroma using direct local API.\n",
      "Using DuckDB in-memory for database. Data will be transient.\n"
     ]
    }
   ],
   "source": [
    "embeddings = OpenAIEmbeddings()\n",
    "vectordb = Chroma.from_documents(texts, embeddings)"
   ]
  },
  {
   "cell_type": "markdown",
   "id": "1ddb7866",
   "metadata": {},
   "source": [
    "## Create the chain\n",
    "\n",
    "Initialize the chain we will use for question answering."
   ]
  },
  {
   "cell_type": "code",
   "execution_count": 7,
   "id": "35164427",
   "metadata": {},
   "outputs": [],
   "source": [
    "qa = VectorDBQA.from_chain_type(llm=OpenAI(), chain_type=\"stuff\", vectorstore=vectordb)"
   ]
  },
  {
   "cell_type": "markdown",
   "id": "cff96efe",
   "metadata": {},
   "source": [
    "## Ask questions!\n",
    "\n",
    "Now we can use the chain to ask questions!"
   ]
  },
  {
   "cell_type": "code",
   "execution_count": 9,
   "id": "f5851c0b",
   "metadata": {},
   "outputs": [
    {
     "data": {
      "text/plain": [
       "\" I don't know.\""
      ]
     },
     "execution_count": 9,
     "metadata": {},
     "output_type": "execute_result"
    }
   ],
   "source": [
    "query = \"What did the president say about Ketanji Brown Jackson\"\n",
    "qa.run(query)"
   ]
  },
  {
   "cell_type": "code",
   "execution_count": 21,
   "id": "24cf9016",
   "metadata": {},
   "outputs": [
    {
     "name": "stdout",
     "output_type": "stream",
     "text": [
      "\n",
      "1. What is the current price of ETH? \n",
      "2. What is the current price of ZK? \n",
      "3. What is the best way to invest in ETH? \n",
      "4. What are the risks associated with investing in ZK? \n",
      "5. What are the main features of layer2 scaling? \n",
      "6. What is the most recent news about ETH? \n",
      "7. What is the most recent news about ZK? \n",
      "8. What upcoming events should I know about in the crypto and web3 space? \n",
      "9. What are the benefits of investing in layer2 solutions? \n",
      "10. How have ETH, ZK, and layer2 solutions performed in 2021?\n"
     ]
    }
   ],
   "source": [
    "query = \"Generate 10 questions that a retail crypto investor might want to ask a chatbot for investing research in cypto and web3 space, focused on topics of ETH, ZK, layer2 that are related to news and events happened on 2021?\"\n",
    "result = qa.run(query)\n",
    "print(result)"
   ]
  },
  {
   "attachments": {},
   "cell_type": "markdown",
   "id": "ecca43c7",
   "metadata": {},
   "source": [
    "# Query Assisted Generation"
   ]
  },
  {
   "cell_type": "code",
   "execution_count": 65,
   "id": "28b1ec8e",
   "metadata": {},
   "outputs": [],
   "source": [
    "query = \"What is Arbitrum?\"\n",
    "hits = vectordb.similarity_search(query=query)\n",
    "\n",
    "hits_page_content = [h.page_content for h in hits]\n",
    "hits_sources = [h.metadata['source'] for h in hits]"
   ]
  },
  {
   "cell_type": "code",
   "execution_count": 66,
   "id": "a7bf5d4f",
   "metadata": {},
   "outputs": [],
   "source": [
    "from langchain import PromptTemplate\n",
    "\n",
    "\n",
    "template = \"\"\"\n",
    "I want you to act as a crypto analyst working at coinbase writing about crypto currency.\n",
    "\n",
    "Base yor answer on the following articles:\n",
    "{article_1}\n",
    "{article_2}\n",
    "{article_3}\n",
    "{article_4}\n",
    "\n",
    "Answer the following question:\n",
    "{question}\n",
    "\"\"\"\n",
    "\n",
    "prompt = PromptTemplate(\n",
    "    input_variables=[\"question\", \"article_1\", \"article_2\", \"article_3\", \"article_4\"],\n",
    "    template=template,\n",
    ")"
   ]
  },
  {
   "cell_type": "code",
   "execution_count": 67,
   "id": "1f7a4704",
   "metadata": {},
   "outputs": [
    {
     "data": {
      "text/plain": [
       "'\\nI want you to act as a crypto analyst working at coinbase writing about crypto currency.\\n\\nBase yor answer on the following articles:\\nexpand access to books to children in Africa and beyond and revolutionize how philanthropy can work.Related: South African President Steps Down as Banks Embrace Blockchain TechnologySpainFollowing Avalanche’s first-ever summit in Barcelona, the first Spanish Ethereum conference will be held in the same city from July 6 to 8. This comes as Ethereum co-founder Vitalik Buterin is calling for Federal Deposit Insurance Corporation-like protection for small crypto investors in the face of the recent market meltdown.Roberto de Arquer, co-founder and chief metaverse officer of Spain-based Gamium, explained: We are building the first decentralized social metaverse and the digital identity of humans. Gamium World is a 3D, fully immersive environment that allows users to access Gamium’s decentralized social metaverse. Player avatars create the world and can build experiences through the Gamium software development kit, including buying and selling land.Elsewhere in the Metaverse, holders of NFTs related to video game real estate have lost thousands to millions of dollars from transaction fees, phishing attacks, rug pulls and more. In a Reddit comment, u/MDKAOD recently explained the virtual real estate business: Entropia Universe (formerly Project Entropia) has had land deeds since the early 2000’s. John ‘Neverdie’ Jacobs is the big name DJ who owns an entire space station in that game and now there are whole ‘partner planets’ owned (at least in history) by Lemmy from Motorhead, Michael Jackson’s estate (at least was in talks at one point, I don’t know if it ever materialized) and at least one other big profile name that escapes me. He continued: Virtual real estate has always been unobtainable and as far as I’m concerned has always been a way to launder money. Related: Spain tackles corruption with blockchain AI and amendments to its anti-corruption lawsTurkeyMehmet Eryilmaz, founder of Turkey-based Faro, explained to me: Faro is a tokenized entertainment company that produces films and TV content, owns music catalogs and IP, and manages live entertainment and Web3 representation rights. The company leverages peak interest in local content, soaring production budgets, Turkey’s content export success and post-COVID live entertainment demand with forward-looking Web3 themes of collective ownership and fan-based\\nbroadest user base. With this in mind, we are dedicating resources to improving our APIs, SDKs and associated documentation. In December 2021, Gorbunov contributed to a Cointelegraph experts opinion piece\\xa0and spoke\\xa0proficiently on concerns that the DeFi industry is becoming over-reliant on centralized interoperability bridges, a culturally relevant topic that raises justified questions over bona fide decentralization in the space. @Cointelegraph piece on taking crypto mainstream: We’re going to witness the development of singular, universal infrastructures that help blockchain ecosystems achieve true interoperability, taking the industry a step closer to mainstream adoption.https://t.co/qDP75HPqqa pic.twitter.com/VlFFKBC0Xd— Axelar Network (@axelarcore) December 24, 2021 Later in our conversation, Gorbunov shared his perspective on the potential for a cross-chain and/or multichain ecosystem model, and how their wide-scale implementations could benefit both users and developers.Multichain isn’t the future, it is here: Witness the growth of multiple layer-1 blockchains. The demand for cross-chain services is also evident, in the proliferation of pairwise solutions and the growing value committed to those solutions.He continued on to state: It’s clear that developers want the ability to build on the chain that best suits their needs, without siloing liquidity. Users want the same thing. At Axelar, it is our goal to minimize the risks involved in cross-chain activity, and maximize the potential benefits to developers and users.\"}\\nplatform this autumn, according to investors. Unnamed investors told a Russian media outlet that a circular had been sent to participants in TON’s Initial Coin Offering at the beginning of September, saying that the blockchain component of the platform was under development, with 70 percent of the product already finished.Kenyan Government Looks To Blockchain For Affordable HousingKenya’s government is planning to use blockchain technology to manage a government housing project of 500,000 units to be built by 2020. Within the affordable housing program, the government will assist contributors learning less than 100,000 Kenyan shillings ($992). Blockchain tech will be used to make sure there is a proper distribution to deserving inhabitants in the program, and prevent fraud from legislators and beneficiaries.Genesis Global Trading Processes Over Half A Billion Dollars In First Half YearGenesis Global Trading, an institutional cryptocurrency over-the-counter broker, said this week that its loans spin-off has processed over half a billion dollars in its first six months. The loans company, which started its digital asset lending activities in March, reported that its current order book has $130 million in outstanding loans, and that the total cash flow reached $553 million for all supported assets. The firm also noted that altcoins like Litecoin, Ripple, Ethereum Classic, and Bitcoin Cash drew high demand.Coinbase Adds Support For First ERC20 Token On PlatformMajor U.S. crypto exchange and wallet Coinbase has opened trading for 0x (ZRX), making it the first ERC-20 token to be traded on the platform. Coinbase noted that the token is also available on Coinbase Pro, but that trading will only be allowed once enough liquidity is established. Currently, Coinbase customers can trade with ZRX on Coinbase’s websites and its iOS and Android apps; however, it is not available initially for residents of New York and the U.K.Mergers, Acquisitions, And PartnershipsGates Foundation Partners With Ripple, Coil For Pro-Poor Payment SystemsThis week, the deputy director of the Bill and Melinda Gates Foundation announced a partnership with Ripple Labs Inc. and digital payments firm Coil in order to implement the Interledger Protocol, which aims to speed up cross-border transfers. The partnership will also develop ways that Moojaloop,\\nCasper, where they kind of adopt this lone samurai viewpoint. Charles Hoskinson, the co-founder of Ethereum (ETH) and IOHK, the company behind Cardano (ADA), speaking on the idea of development with open protocols I have learned about how blockchain is having a huge impact on supply chain management, and how an app in Britain can help the public report modern slavery at car washes. Princess Eugenie, the granddaughter of Queen Elizabeth, who founded the Anti-Slavery Collective in Britain in 2017 Blockchain is like a spreadsheet on steroids that can automate certain tasks, build greater transparency, speed and reliability, and provide a single source of transactional information. David R. Jarczyk, innovation principal and tax leader for blockchain at KPMG Now it’s a question of duration and I suspect when you have such a massive bubble, you’ll always have an overhang of people who need to sell. Mike McGlone, Bloomberg Intelligence analystFUD of the WeekSingapore Police Secure First Convictions Against OneCoin MLM Scheme AgentsAuthorities in Singapore have charged two men for promoting crypto multi-level marketing (MLM) scheme OneCoin in what is touted as the first case of its kind for the city-state. The two unnamed men reportedly engaged in activities that incorporated a subsidiary in order to promote OneCoin, in addition to signing up new members and accepting investments in return for education courses and OneCoin tokens. Singapore’s central bank had previously added OneCoin to its Investor Alert List, and various governments around the world have also issued warnings against the MLM scam, advising consumers not to interact or invest in OneCoin. While one founder was recently arrested in the U.S., the other remains at large following the indictment.Canadian Crypto Exchange QuadrigaCX Officially Declared BankruptQuadrigaCX, the embattled Canadian crypto exchange, has officially been declared bankrupt. The exchange’s bankruptcy was reportedly approved by the Nova Scotia Supreme Court following the court monitor’s earlier recommendation to do so. At the time, Ernst & Young’s legal team had put forward the argument that the restructuring process should instead be shifted to bankruptcy proceedings, meaning that the monitor will now have enhanced investigative powers. QuadrigaCX had previously filed for creditor\\n\\nAnswer the following question:\\nWhat is Arbitrum?\\n'"
      ]
     },
     "execution_count": 67,
     "metadata": {},
     "output_type": "execute_result"
    }
   ],
   "source": [
    "prompt_data = {\n",
    "    \"question\": query,\n",
    "    \"article_1\": hits_page_content[0],\n",
    "    \"article_2\": hits_page_content[1],\n",
    "    \"article_3\": hits_page_content[2],\n",
    "    \"article_4\": hits_page_content[3],\n",
    "\n",
    "}\n",
    "prompt.format(**prompt_data)"
   ]
  },
  {
   "cell_type": "code",
   "execution_count": 68,
   "id": "f79481bc",
   "metadata": {},
   "outputs": [
    {
     "data": {
      "text/plain": [
       "'\\nArbitrum is an Ethereum-compatible Layer 2 scaling solution developed by Offchain Labs. It is designed to improve the scalability, speed, and cost of transactions on the Ethereum blockchain, while maintaining the security of the underlying blockchain. It is based on a generalized state channel technology, which enables users to execute transactions off-chain, while using the Ethereum blockchain to settle any disputes. This allows for faster and cheaper transactions, without sacrificing the security of the blockchain.'"
      ]
     },
     "execution_count": 68,
     "metadata": {},
     "output_type": "execute_result"
    }
   ],
   "source": [
    "from langchain.llms import OpenAI\n",
    "\n",
    "llm = OpenAI(model_name=\"text-davinci-003\", temperature=0.5, best_of=10, n=3, max_tokens=200)\n",
    "\n",
    "llm(prompt.format(**prompt_data))"
   ]
  },
  {
   "cell_type": "code",
   "execution_count": 69,
   "id": "0079c4ef",
   "metadata": {},
   "outputs": [
    {
     "data": {
      "text/plain": [
       "['expand access to books to children in Africa and beyond and revolutionize how philanthropy can work.Related: South African President Steps Down as Banks Embrace Blockchain TechnologySpainFollowing Avalanche’s first-ever summit in Barcelona, the first Spanish Ethereum conference will be held in the same city from July 6 to 8. This comes as Ethereum co-founder Vitalik Buterin is calling for Federal Deposit Insurance Corporation-like protection for small crypto investors in the face of the recent market meltdown.Roberto de Arquer, co-founder and chief metaverse officer of Spain-based Gamium, explained: We are building the first decentralized social metaverse and the digital identity of humans. Gamium World is a 3D, fully immersive environment that allows users to access Gamium’s decentralized social metaverse. Player avatars create the world and can build experiences through the Gamium software development kit, including buying and selling land.Elsewhere in the Metaverse, holders of NFTs related to video game real estate have lost thousands to millions of dollars from transaction fees, phishing attacks, rug pulls and more. In a Reddit comment, u/MDKAOD recently explained the virtual real estate business: Entropia Universe (formerly Project Entropia) has had land deeds since the early 2000’s. John ‘Neverdie’ Jacobs is the big name DJ who owns an entire space station in that game and now there are whole ‘partner planets’ owned (at least in history) by Lemmy from Motorhead, Michael Jackson’s estate (at least was in talks at one point, I don’t know if it ever materialized) and at least one other big profile name that escapes me. He continued: Virtual real estate has always been unobtainable and as far as I’m concerned has always been a way to launder money. Related: Spain tackles corruption with blockchain AI and amendments to its anti-corruption lawsTurkeyMehmet Eryilmaz, founder of Turkey-based Faro, explained to me: Faro is a tokenized entertainment company that produces films and TV content, owns music catalogs and IP, and manages live entertainment and Web3 representation rights. The company leverages peak interest in local content, soaring production budgets, Turkey’s content export success and post-COVID live entertainment demand with forward-looking Web3 themes of collective ownership and fan-based',\n",
       " 'broadest user base. With this in mind, we are dedicating resources to improving our APIs, SDKs and associated documentation. In December 2021, Gorbunov contributed to a Cointelegraph experts opinion piece\\xa0and spoke\\xa0proficiently on concerns that the DeFi industry is becoming over-reliant on centralized interoperability bridges, a culturally relevant topic that raises justified questions over bona fide decentralization in the space. @Cointelegraph piece on taking crypto mainstream: We’re going to witness the development of singular, universal infrastructures that help blockchain ecosystems achieve true interoperability, taking the industry a step closer to mainstream adoption.https://t.co/qDP75HPqqa pic.twitter.com/VlFFKBC0Xd— Axelar Network (@axelarcore) December 24, 2021 Later in our conversation, Gorbunov shared his perspective on the potential for a cross-chain and/or multichain ecosystem model, and how their wide-scale implementations could benefit both users and developers.Multichain isn’t the future, it is here: Witness the growth of multiple layer-1 blockchains. The demand for cross-chain services is also evident, in the proliferation of pairwise solutions and the growing value committed to those solutions.He continued on to state: It’s clear that developers want the ability to build on the chain that best suits their needs, without siloing liquidity. Users want the same thing. At Axelar, it is our goal to minimize the risks involved in cross-chain activity, and maximize the potential benefits to developers and users.\"}',\n",
       " 'platform this autumn, according to investors. Unnamed investors told a Russian media outlet that a circular had been sent to participants in TON’s Initial Coin Offering at the beginning of September, saying that the blockchain component of the platform was under development, with 70 percent of the product already finished.Kenyan Government Looks To Blockchain For Affordable HousingKenya’s government is planning to use blockchain technology to manage a government housing project of 500,000 units to be built by 2020. Within the affordable housing program, the government will assist contributors learning less than 100,000 Kenyan shillings ($992). Blockchain tech will be used to make sure there is a proper distribution to deserving inhabitants in the program, and prevent fraud from legislators and beneficiaries.Genesis Global Trading Processes Over Half A Billion Dollars In First Half YearGenesis Global Trading, an institutional cryptocurrency over-the-counter broker, said this week that its loans spin-off has processed over half a billion dollars in its first six months. The loans company, which started its digital asset lending activities in March, reported that its current order book has $130 million in outstanding loans, and that the total cash flow reached $553 million for all supported assets. The firm also noted that altcoins like Litecoin, Ripple, Ethereum Classic, and Bitcoin Cash drew high demand.Coinbase Adds Support For First ERC20 Token On PlatformMajor U.S. crypto exchange and wallet Coinbase has opened trading for 0x (ZRX), making it the first ERC-20 token to be traded on the platform. Coinbase noted that the token is also available on Coinbase Pro, but that trading will only be allowed once enough liquidity is established. Currently, Coinbase customers can trade with ZRX on Coinbase’s websites and its iOS and Android apps; however, it is not available initially for residents of New York and the U.K.Mergers, Acquisitions, And PartnershipsGates Foundation Partners With Ripple, Coil For Pro-Poor Payment SystemsThis week, the deputy director of the Bill and Melinda Gates Foundation announced a partnership with Ripple Labs Inc. and digital payments firm Coil in order to implement the Interledger Protocol, which aims to speed up cross-border transfers. The partnership will also develop ways that Moojaloop,',\n",
       " 'Casper, where they kind of adopt this lone samurai viewpoint. Charles Hoskinson, the co-founder of Ethereum (ETH) and IOHK, the company behind Cardano (ADA), speaking on the idea of development with open protocols I have learned about how blockchain is having a huge impact on supply chain management, and how an app in Britain can help the public report modern slavery at car washes. Princess Eugenie, the granddaughter of Queen Elizabeth, who founded the Anti-Slavery Collective in Britain in 2017 Blockchain is like a spreadsheet on steroids that can automate certain tasks, build greater transparency, speed and reliability, and provide a single source of transactional information. David R. Jarczyk, innovation principal and tax leader for blockchain at KPMG Now it’s a question of duration and I suspect when you have such a massive bubble, you’ll always have an overhang of people who need to sell. Mike McGlone, Bloomberg Intelligence analystFUD of the WeekSingapore Police Secure First Convictions Against OneCoin MLM Scheme AgentsAuthorities in Singapore have charged two men for promoting crypto multi-level marketing (MLM) scheme OneCoin in what is touted as the first case of its kind for the city-state. The two unnamed men reportedly engaged in activities that incorporated a subsidiary in order to promote OneCoin, in addition to signing up new members and accepting investments in return for education courses and OneCoin tokens. Singapore’s central bank had previously added OneCoin to its Investor Alert List, and various governments around the world have also issued warnings against the MLM scam, advising consumers not to interact or invest in OneCoin. While one founder was recently arrested in the U.S., the other remains at large following the indictment.Canadian Crypto Exchange QuadrigaCX Officially Declared BankruptQuadrigaCX, the embattled Canadian crypto exchange, has officially been declared bankrupt. The exchange’s bankruptcy was reportedly approved by the Nova Scotia Supreme Court following the court monitor’s earlier recommendation to do so. At the time, Ernst & Young’s legal team had put forward the argument that the restructuring process should instead be shifted to bankruptcy proceedings, meaning that the monitor will now have enhanced investigative powers. QuadrigaCX had previously filed for creditor']"
      ]
     },
     "execution_count": 69,
     "metadata": {},
     "output_type": "execute_result"
    }
   ],
   "source": [
    "hits_page_content"
   ]
  },
  {
   "cell_type": "code",
   "execution_count": 70,
   "id": "e648bf76",
   "metadata": {},
   "outputs": [
    {
     "data": {
      "text/plain": [
       "['expand access to books to children in Africa and beyond and revolutionize how philanthropy can work.Related: South African President Steps Down as Banks Embrace Blockchain TechnologySpainFollowing Avalanche’s first-ever summit in Barcelona, the first Spanish Ethereum conference will be held in the same city from July 6 to 8. This comes as Ethereum co-founder Vitalik Buterin is calling for Federal Deposit Insurance Corporation-like protection for small crypto investors in the face of the recent market meltdown.Roberto de Arquer, co-founder and chief metaverse officer of Spain-based Gamium, explained: We are building the first decentralized social metaverse and the digital identity of humans. Gamium World is a 3D, fully immersive environment that allows users to access Gamium’s decentralized social metaverse. Player avatars create the world and can build experiences through the Gamium software development kit, including buying and selling land.Elsewhere in the Metaverse, holders of NFTs related to video game real estate have lost thousands to millions of dollars from transaction fees, phishing attacks, rug pulls and more. In a Reddit comment, u/MDKAOD recently explained the virtual real estate business: Entropia Universe (formerly Project Entropia) has had land deeds since the early 2000’s. John ‘Neverdie’ Jacobs is the big name DJ who owns an entire space station in that game and now there are whole ‘partner planets’ owned (at least in history) by Lemmy from Motorhead, Michael Jackson’s estate (at least was in talks at one point, I don’t know if it ever materialized) and at least one other big profile name that escapes me. He continued: Virtual real estate has always been unobtainable and as far as I’m concerned has always been a way to launder money. Related: Spain tackles corruption with blockchain AI and amendments to its anti-corruption lawsTurkeyMehmet Eryilmaz, founder of Turkey-based Faro, explained to me: Faro is a tokenized entertainment company that produces films and TV content, owns music catalogs and IP, and manages live entertainment and Web3 representation rights. The company leverages peak interest in local content, soaring production budgets, Turkey’s content export success and post-COVID live entertainment demand with forward-looking Web3 themes of collective ownership and fan-based',\n",
       " 'broadest user base. With this in mind, we are dedicating resources to improving our APIs, SDKs and associated documentation. In December 2021, Gorbunov contributed to a Cointelegraph experts opinion piece\\xa0and spoke\\xa0proficiently on concerns that the DeFi industry is becoming over-reliant on centralized interoperability bridges, a culturally relevant topic that raises justified questions over bona fide decentralization in the space. @Cointelegraph piece on taking crypto mainstream: We’re going to witness the development of singular, universal infrastructures that help blockchain ecosystems achieve true interoperability, taking the industry a step closer to mainstream adoption.https://t.co/qDP75HPqqa pic.twitter.com/VlFFKBC0Xd— Axelar Network (@axelarcore) December 24, 2021 Later in our conversation, Gorbunov shared his perspective on the potential for a cross-chain and/or multichain ecosystem model, and how their wide-scale implementations could benefit both users and developers.Multichain isn’t the future, it is here: Witness the growth of multiple layer-1 blockchains. The demand for cross-chain services is also evident, in the proliferation of pairwise solutions and the growing value committed to those solutions.He continued on to state: It’s clear that developers want the ability to build on the chain that best suits their needs, without siloing liquidity. Users want the same thing. At Axelar, it is our goal to minimize the risks involved in cross-chain activity, and maximize the potential benefits to developers and users.\"}',\n",
       " 'platform this autumn, according to investors. Unnamed investors told a Russian media outlet that a circular had been sent to participants in TON’s Initial Coin Offering at the beginning of September, saying that the blockchain component of the platform was under development, with 70 percent of the product already finished.Kenyan Government Looks To Blockchain For Affordable HousingKenya’s government is planning to use blockchain technology to manage a government housing project of 500,000 units to be built by 2020. Within the affordable housing program, the government will assist contributors learning less than 100,000 Kenyan shillings ($992). Blockchain tech will be used to make sure there is a proper distribution to deserving inhabitants in the program, and prevent fraud from legislators and beneficiaries.Genesis Global Trading Processes Over Half A Billion Dollars In First Half YearGenesis Global Trading, an institutional cryptocurrency over-the-counter broker, said this week that its loans spin-off has processed over half a billion dollars in its first six months. The loans company, which started its digital asset lending activities in March, reported that its current order book has $130 million in outstanding loans, and that the total cash flow reached $553 million for all supported assets. The firm also noted that altcoins like Litecoin, Ripple, Ethereum Classic, and Bitcoin Cash drew high demand.Coinbase Adds Support For First ERC20 Token On PlatformMajor U.S. crypto exchange and wallet Coinbase has opened trading for 0x (ZRX), making it the first ERC-20 token to be traded on the platform. Coinbase noted that the token is also available on Coinbase Pro, but that trading will only be allowed once enough liquidity is established. Currently, Coinbase customers can trade with ZRX on Coinbase’s websites and its iOS and Android apps; however, it is not available initially for residents of New York and the U.K.Mergers, Acquisitions, And PartnershipsGates Foundation Partners With Ripple, Coil For Pro-Poor Payment SystemsThis week, the deputy director of the Bill and Melinda Gates Foundation announced a partnership with Ripple Labs Inc. and digital payments firm Coil in order to implement the Interledger Protocol, which aims to speed up cross-border transfers. The partnership will also develop ways that Moojaloop,',\n",
       " 'Casper, where they kind of adopt this lone samurai viewpoint. Charles Hoskinson, the co-founder of Ethereum (ETH) and IOHK, the company behind Cardano (ADA), speaking on the idea of development with open protocols I have learned about how blockchain is having a huge impact on supply chain management, and how an app in Britain can help the public report modern slavery at car washes. Princess Eugenie, the granddaughter of Queen Elizabeth, who founded the Anti-Slavery Collective in Britain in 2017 Blockchain is like a spreadsheet on steroids that can automate certain tasks, build greater transparency, speed and reliability, and provide a single source of transactional information. David R. Jarczyk, innovation principal and tax leader for blockchain at KPMG Now it’s a question of duration and I suspect when you have such a massive bubble, you’ll always have an overhang of people who need to sell. Mike McGlone, Bloomberg Intelligence analystFUD of the WeekSingapore Police Secure First Convictions Against OneCoin MLM Scheme AgentsAuthorities in Singapore have charged two men for promoting crypto multi-level marketing (MLM) scheme OneCoin in what is touted as the first case of its kind for the city-state. The two unnamed men reportedly engaged in activities that incorporated a subsidiary in order to promote OneCoin, in addition to signing up new members and accepting investments in return for education courses and OneCoin tokens. Singapore’s central bank had previously added OneCoin to its Investor Alert List, and various governments around the world have also issued warnings against the MLM scam, advising consumers not to interact or invest in OneCoin. While one founder was recently arrested in the U.S., the other remains at large following the indictment.Canadian Crypto Exchange QuadrigaCX Officially Declared BankruptQuadrigaCX, the embattled Canadian crypto exchange, has officially been declared bankrupt. The exchange’s bankruptcy was reportedly approved by the Nova Scotia Supreme Court following the court monitor’s earlier recommendation to do so. At the time, Ernst & Young’s legal team had put forward the argument that the restructuring process should instead be shifted to bankruptcy proceedings, meaning that the monitor will now have enhanced investigative powers. QuadrigaCX had previously filed for creditor']"
      ]
     },
     "execution_count": 70,
     "metadata": {},
     "output_type": "execute_result"
    }
   ],
   "source": [
    "hits_page_content"
   ]
  },
  {
   "cell_type": "code",
   "execution_count": null,
   "id": "4fed89ab",
   "metadata": {},
   "outputs": [],
   "source": []
  }
 ],
 "metadata": {
  "kernelspec": {
   "display_name": ".venv",
   "language": "python",
   "name": "python3"
  },
  "language_info": {
   "codemirror_mode": {
    "name": "ipython",
    "version": 3
   },
   "file_extension": ".py",
   "mimetype": "text/x-python",
   "name": "python",
   "nbconvert_exporter": "python",
   "pygments_lexer": "ipython3",
   "version": "3.10.9"
  },
  "vscode": {
   "interpreter": {
    "hash": "d55bbae832b2be6000f72c6603c093de3682e884fa2fdcd85ffa735a2b6f03d8"
   }
  }
 },
 "nbformat": 4,
 "nbformat_minor": 5
}
